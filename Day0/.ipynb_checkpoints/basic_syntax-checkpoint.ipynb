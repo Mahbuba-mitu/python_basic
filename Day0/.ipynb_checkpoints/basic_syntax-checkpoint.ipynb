{
 "cells": [
  {
   "cell_type": "code",
   "execution_count": 1,
   "metadata": {},
   "outputs": [
    {
     "name": "stdout",
     "output_type": "stream",
     "text": [
      "you have to learn python basic\n"
     ]
    }
   ],
   "source": [
    "print(\"you have to learn python basic\")"
   ]
  },
  {
   "cell_type": "code",
   "execution_count": 1,
   "metadata": {},
   "outputs": [
    {
     "name": "stdout",
     "output_type": "stream",
     "text": [
      "grocery list <class 'str'>\n",
      "buy for supershop <class 'str'>\n",
      "5 <class 'int'>\n",
      "350 <class 'int'>\n",
      "1.5 <class 'float'>\n",
      "True <class 'bool'>\n"
     ]
    }
   ],
   "source": [
    "name=\"grocery list\"\n",
    "details=\"buy for supershop\"\n",
    "number_of_items=5\n",
    "budge=350 #taka\n",
    "amount_of_rice=1.5 #kg\n",
    "should_we_buy_today=True\n",
    "print(name,type(name))\n",
    "print(details,type(details))\n",
    "print(number_of_items,type(number_of_items))\n",
    "print(budge,type(budge))\n",
    "print(amount_of_rice,type(amount_of_rice))\n",
    "print(should_we_buy_today,type(should_we_buy_today))"
   ]
  },
  {
   "cell_type": "code",
   "execution_count": 2,
   "metadata": {},
   "outputs": [
    {
     "name": "stdout",
     "output_type": "stream",
     "text": [
      "5\n",
      "7\n",
      "9\n"
     ]
    }
   ],
   "source": [
    "number_of_items=5\n",
    "print(number_of_items)\n",
    "number_of_items=number_of_items+2\n",
    "print(number_of_items)\n",
    "number_of_items +=2\n",
    "print(number_of_items)"
   ]
  },
  {
   "cell_type": "code",
   "execution_count": 3,
   "metadata": {},
   "outputs": [
    {
     "data": {
      "text/plain": [
       "5"
      ]
     },
     "execution_count": 3,
     "metadata": {},
     "output_type": "execute_result"
    }
   ],
   "source": [
    "#type casting\n",
    "x=10\n",
    "y=2\n",
    "result=int(x/y)\n",
    "result"
   ]
  },
  {
   "cell_type": "code",
   "execution_count": 4,
   "metadata": {},
   "outputs": [
    {
     "data": {
      "text/plain": [
       "1"
      ]
     },
     "execution_count": 4,
     "metadata": {},
     "output_type": "execute_result"
    }
   ],
   "source": [
    "#modulas operator or bagses\n",
    "x=10\n",
    "y=3\n",
    "result=x%y\n",
    "result"
   ]
  },
  {
   "cell_type": "code",
   "execution_count": 5,
   "metadata": {},
   "outputs": [
    {
     "data": {
      "text/plain": [
       "(3, 1)"
      ]
     },
     "execution_count": 5,
     "metadata": {},
     "output_type": "execute_result"
    }
   ],
   "source": [
    "#divmod operatot\n",
    "#it will return vagses and vagfol\n",
    "x=10\n",
    "y=3\n",
    "result=divmod(x,y)\n",
    "result"
   ]
  },
  {
   "cell_type": "code",
   "execution_count": 6,
   "metadata": {},
   "outputs": [
    {
     "data": {
      "text/plain": [
       "9"
      ]
     },
     "execution_count": 6,
     "metadata": {},
     "output_type": "execute_result"
    }
   ],
   "source": [
    "#exponential\n",
    "#power operation\n",
    "x=3\n",
    "result=x**2\n",
    "result"
   ]
  },
  {
   "cell_type": "code",
   "execution_count": 7,
   "metadata": {},
   "outputs": [
    {
     "data": {
      "text/plain": [
       "16"
      ]
     },
     "execution_count": 7,
     "metadata": {},
     "output_type": "execute_result"
    }
   ],
   "source": [
    "#another syntax of exponential\n",
    "x=4\n",
    "result=pow(x,2)\n",
    "result"
   ]
  }
 ],
 "metadata": {
  "kernelspec": {
   "display_name": "Python 3",
   "language": "python",
   "name": "python3"
  },
  "language_info": {
   "codemirror_mode": {
    "name": "ipython",
    "version": 3
   },
   "file_extension": ".py",
   "mimetype": "text/x-python",
   "name": "python",
   "nbconvert_exporter": "python",
   "pygments_lexer": "ipython3",
   "version": "3.7.0"
  }
 },
 "nbformat": 4,
 "nbformat_minor": 2
}
