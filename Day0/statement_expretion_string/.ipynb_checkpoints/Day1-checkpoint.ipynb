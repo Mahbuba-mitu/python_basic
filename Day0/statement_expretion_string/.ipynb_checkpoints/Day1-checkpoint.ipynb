{
 "cells": [
  {
   "cell_type": "code",
   "execution_count": 1,
   "metadata": {},
   "outputs": [
    {
     "data": {
      "text/plain": [
       "('p', 'y', 't')"
      ]
     },
     "execution_count": 1,
     "metadata": {},
     "output_type": "execute_result"
    }
   ],
   "source": [
    "title=\"python basic\"\n",
    "title[0],title[1],title[2]"
   ]
  },
  {
   "cell_type": "code",
   "execution_count": 2,
   "metadata": {},
   "outputs": [
    {
     "data": {
      "text/plain": [
       "('c', 's')"
      ]
     },
     "execution_count": 2,
     "metadata": {},
     "output_type": "execute_result"
    }
   ],
   "source": [
    "title=\"python basic\"\n",
    "title[-1],title[-3]"
   ]
  },
  {
   "cell_type": "code",
   "execution_count": 3,
   "metadata": {},
   "outputs": [
    {
     "name": "stdout",
     "output_type": "stream",
     "text": [
      "Jonathon Swift\n",
      "JONATHON SWIFT\n",
      "jonathon swift\n"
     ]
    }
   ],
   "source": [
    "name=\"jonathon swift\"\n",
    "print(name.title())\n",
    "print(name.upper())\n",
    "print(name.lower())"
   ]
  },
  {
   "cell_type": "code",
   "execution_count": 11,
   "metadata": {},
   "outputs": [
    {
     "data": {
      "text/plain": [
       "'azad hossain'"
      ]
     },
     "execution_count": 11,
     "metadata": {},
     "output_type": "execute_result"
    }
   ],
   "source": [
    "#string concatenation\n",
    "first_name=\"azad\"\n",
    "last_name=\"hossain\"\n",
    "full_name=first_name+\" \" +last_name\n",
    "full_name\n"
   ]
  },
  {
   "cell_type": "code",
   "execution_count": 14,
   "metadata": {},
   "outputs": [
    {
     "data": {
      "text/plain": [
       "'azad/nhossain'"
      ]
     },
     "execution_count": 14,
     "metadata": {},
     "output_type": "execute_result"
    }
   ],
   "source": [
    "name=first_name+'\\n'+last_name\n",
    "name"
   ]
  },
  {
   "cell_type": "code",
   "execution_count": 4,
   "metadata": {},
   "outputs": [
    {
     "name": "stdout",
     "output_type": "stream",
     "text": [
      "_   mr.x   _\n",
      "_mr.x   _\n",
      "_   mr.x_\n",
      "_mr.x_\n"
     ]
    }
   ],
   "source": [
    "#white space\n",
    "name=\"   mr.x   \"\n",
    "print(\"_\"+name+\"_\")\n",
    "print(\"_\"+name.lstrip()+\"_\")\n",
    "print(\"_\"+name.rstrip()+\"_\")\n",
    "print(\"_\"+name.strip()+\"_\")"
   ]
  },
  {
   "cell_type": "code",
   "execution_count": 13,
   "metadata": {},
   "outputs": [
    {
     "data": {
      "text/plain": [
       "'rahi\"s shop'"
      ]
     },
     "execution_count": 13,
     "metadata": {},
     "output_type": "execute_result"
    }
   ],
   "source": [
    "shop_name=\"rahim's shop\"\n",
    "shop_name\n",
    "name='rahi\"s shop'\n",
    "name"
   ]
  },
  {
   "cell_type": "code",
   "execution_count": 3,
   "metadata": {},
   "outputs": [
    {
     "data": {
      "text/plain": [
       "14"
      ]
     },
     "execution_count": 3,
     "metadata": {},
     "output_type": "execute_result"
    }
   ],
   "source": [
    "#find word in a sentence\n",
    "sentence=\"A quick brown fox jump over the lazy dog\"\n",
    "sentence.find(\"fox\")\n"
   ]
  },
  {
   "cell_type": "code",
   "execution_count": 5,
   "metadata": {},
   "outputs": [
    {
     "data": {
      "text/plain": [
       "'A quick brown tiger jump over the lazy dog'"
      ]
     },
     "execution_count": 5,
     "metadata": {},
     "output_type": "execute_result"
    }
   ],
   "source": [
    "#replace a word in a sentence \n",
    "sentence=\"A quick brown fox jump over the lazy dog\"\n",
    "sentence.replace(\"fox\",\"tiger\")"
   ]
  },
  {
   "cell_type": "code",
   "execution_count": 7,
   "metadata": {},
   "outputs": [
    {
     "data": {
      "text/plain": [
       "'A quick brown tiger jump over the lazy tiger'"
      ]
     },
     "execution_count": 7,
     "metadata": {},
     "output_type": "execute_result"
    }
   ],
   "source": [
    "#replace all word in a sentence \n",
    "sentence=\"A quick brown fox jump over the lazy fox\"\n",
    "sentence.replace(\"fox\",\"tiger\")"
   ]
  },
  {
   "cell_type": "code",
   "execution_count": 15,
   "metadata": {
    "scrolled": true
   },
   "outputs": [
    {
     "name": "stdout",
     "output_type": "stream",
     "text": [
      "Dhaka|comilla|Tangail\n"
     ]
    }
   ],
   "source": [
    "x=\"Dhaka\"\n",
    "y=\"comilla\"\n",
    "z=\"Tangail\"\n",
    "print(x+\"|\"+y+\"|\"+z)\n",
    "#but this process is not good "
   ]
  },
  {
   "cell_type": "code",
   "execution_count": 16,
   "metadata": {},
   "outputs": [
    {
     "name": "stdout",
     "output_type": "stream",
     "text": [
      "Dhaka|comilla|Tangail\n"
     ]
    }
   ],
   "source": [
    "x=\"Dhaka\"\n",
    "y=\"comilla\"\n",
    "z=\"Tangail\"\n",
    "print(x,y,z, sep=\"|\")"
   ]
  },
  {
   "cell_type": "code",
   "execution_count": 18,
   "metadata": {},
   "outputs": [
    {
     "name": "stdout",
     "output_type": "stream",
     "text": [
      "bill's age is 55\n"
     ]
    }
   ],
   "source": [
    "#string interpolation\n",
    "person=\"{name}'s age is {age}\"\n",
    "print(person.format(name=\"bill\",age=55))"
   ]
  },
  {
   "cell_type": "code",
   "execution_count": 19,
   "metadata": {},
   "outputs": [
    {
     "name": "stdout",
     "output_type": "stream",
     "text": [
      "taylor\n"
     ]
    }
   ],
   "source": [
    "#string slicing\n",
    "name=\"taylor swift\"\n",
    "part_of_name=name[0:6]\n",
    "print(part_of_name)"
   ]
  },
  {
   "cell_type": "code",
   "execution_count": 20,
   "metadata": {},
   "outputs": [
    {
     "name": "stdout",
     "output_type": "stream",
     "text": [
      "swif\n"
     ]
    }
   ],
   "source": [
    "#string slicing\n",
    "name=\"taylor swift\"\n",
    "part_of_name=name[7:-1]\n",
    "print(part_of_name)"
   ]
  }
 ],
 "metadata": {
  "kernelspec": {
   "display_name": "Python 3",
   "language": "python",
   "name": "python3"
  },
  "language_info": {
   "codemirror_mode": {
    "name": "ipython",
    "version": 3
   },
   "file_extension": ".py",
   "mimetype": "text/x-python",
   "name": "python",
   "nbconvert_exporter": "python",
   "pygments_lexer": "ipython3",
   "version": "3.7.0"
  }
 },
 "nbformat": 4,
 "nbformat_minor": 2
}
