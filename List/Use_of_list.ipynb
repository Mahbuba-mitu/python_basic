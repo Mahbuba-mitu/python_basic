{
 "cells": [
  {
   "cell_type": "code",
   "execution_count": 2,
   "metadata": {},
   "outputs": [
    {
     "name": "stdout",
     "output_type": "stream",
     "text": [
      "['audi', 'toyota', 'bmw']\n",
      "bmw\n"
     ]
    }
   ],
   "source": [
    "#list\n",
    "cars=['audi','toyota','bmw']\n",
    "print(cars)\n",
    "print(cars[2])"
   ]
  },
  {
   "cell_type": "code",
   "execution_count": 4,
   "metadata": {},
   "outputs": [
    {
     "name": "stdout",
     "output_type": "stream",
     "text": [
      "['honda', 4, 3.4, False]\n",
      "False\n"
     ]
    }
   ],
   "source": [
    "#mix list\n",
    "mix_list=['honda',4,3.4,False]\n",
    "print(mix_list)\n",
    "#last element of a list \n",
    "print(mix_list[-1])"
   ]
  },
  {
   "cell_type": "code",
   "execution_count": 7,
   "metadata": {},
   "outputs": [
    {
     "name": "stdout",
     "output_type": "stream",
     "text": [
      "1 2 3 4 5 \n",
      "4 2 5 2 5 \n",
      "4 4 4 4 4 \n",
      "3 3 3 3 3 \n"
     ]
    }
   ],
   "source": [
    "#nested list\n",
    "nested_list=[[1,2,3,4,5],\n",
    "             [4,2,5,2,5],\n",
    "             [4,4,4,4,4],\n",
    "             [3,3,3,3,3],\n",
    "    \n",
    "            ]\n",
    "for x in nasted_list:\n",
    "    for y in x:\n",
    "        print(y,end=\" \")\n",
    "    print()"
   ]
  },
  {
   "cell_type": "code",
   "execution_count": 10,
   "metadata": {},
   "outputs": [
    {
     "name": "stdout",
     "output_type": "stream",
     "text": [
      "[2, 1]\n",
      "[3]\n"
     ]
    }
   ],
   "source": [
    "#list slicing\n",
    "\n",
    "list=[2,1,3,4,5]\n",
    "print(list[0:2])\n",
    "print(list[2:-2])"
   ]
  },
  {
   "cell_type": "code",
   "execution_count": 12,
   "metadata": {},
   "outputs": [
    {
     "name": "stdout",
     "output_type": "stream",
     "text": [
      "audi\n",
      "bmw\n",
      "i love bmw car\n",
      "toyota\n"
     ]
    }
   ],
   "source": [
    "#list iteration with for loop \n",
    "car=['audi','bmw','toyota']\n",
    "for x in car:\n",
    "    print(x)\n",
    "    if x=='bmw':\n",
    "        print(\"i love bmw car\")"
   ]
  },
  {
   "cell_type": "code",
   "execution_count": 15,
   "metadata": {},
   "outputs": [
    {
     "name": "stdout",
     "output_type": "stream",
     "text": [
      "sum is :15\n"
     ]
    }
   ],
   "source": [
    "#sum of list number\n",
    "\n",
    "num=[1,2,3,4,5]\n",
    "sum=0\n",
    "for x in num:\n",
    "    sum+=x\n",
    "print(\"sum is :{sum}\".format(sum=sum))"
   ]
  },
  {
   "cell_type": "code",
   "execution_count": 18,
   "metadata": {},
   "outputs": [
    {
     "name": "stdout",
     "output_type": "stream",
     "text": [
      "sum is :11\n"
     ]
    }
   ],
   "source": [
    "# exeption (sum of list number {omiting string})\n",
    "list_of_number=[1,2,3,\"math\",4.3,5]\n",
    "sum=0\n",
    "for num in list_of_number:\n",
    "    if type(num)==int:\n",
    "        sum+=num\n",
    "print(\"sum is :{sum}\".format(sum=sum))"
   ]
  },
  {
   "cell_type": "code",
   "execution_count": 19,
   "metadata": {},
   "outputs": [
    {
     "name": "stdout",
     "output_type": "stream",
     "text": [
      "['honda', 2, 3, 4.4, 'bmw']\n",
      "['audi', 2, 3, 4.4, 'bmw']\n"
     ]
    }
   ],
   "source": [
    "#list Modification\n",
    "mix_list=['honda',2,3,4.4,'bmw']\n",
    "print(mix_list)\n",
    "mix_list [0]='audi'\n",
    "print(mix_list)"
   ]
  },
  {
   "cell_type": "code",
   "execution_count": 22,
   "metadata": {},
   "outputs": [
    {
     "name": "stdout",
     "output_type": "stream",
     "text": [
      "['fried rice', 'lemon water']\n",
      "['fried rice', 'lemon water', 'pasta']\n",
      "['fried rice', 'lemon water', 'pasta', 'nasi goring']\n"
     ]
    }
   ],
   "source": [
    "#add item in list\n",
    "food_manu=['fried rice','lemon water']\n",
    "print(food_manu)\n",
    "\n",
    "food_manu.append('pasta')\n",
    "print(food_manu)\n",
    "\n",
    "#another method to add item \n",
    "\n",
    "food_manu+=['nasi goring']\n",
    "print(food_manu)\n",
    "\n"
   ]
  },
  {
   "cell_type": "code",
   "execution_count": 24,
   "metadata": {},
   "outputs": [
    {
     "name": "stdout",
     "output_type": "stream",
     "text": [
      "['fried rice', 'lemon water', 'fried chicken', 'pasta', 'nasi goring']\n"
     ]
    }
   ],
   "source": [
    "#add item in perticular position\n",
    "manu=['fried rice', 'lemon water', 'pasta', 'nasi goring']\n",
    "manu.insert(2,\"fried chicken\")\n",
    "print(manu)"
   ]
  },
  {
   "cell_type": "code",
   "execution_count": 27,
   "metadata": {},
   "outputs": [
    {
     "name": "stdout",
     "output_type": "stream",
     "text": [
      "['lemon water', 'fried chicken', 'pasta', 'nasi goring']\n"
     ]
    }
   ],
   "source": [
    "#delete item from a list\n",
    "\n",
    "set_menu=['fried rice', 'lemon water', 'fried chicken', 'pasta', 'nasi goring']\n",
    "del set_menu [0]\n",
    "print(set_menu)"
   ]
  }
 ],
 "metadata": {
  "kernelspec": {
   "display_name": "Python 3",
   "language": "python",
   "name": "python3"
  },
  "language_info": {
   "codemirror_mode": {
    "name": "ipython",
    "version": 3
   },
   "file_extension": ".py",
   "mimetype": "text/x-python",
   "name": "python",
   "nbconvert_exporter": "python",
   "pygments_lexer": "ipython3",
   "version": "3.7.0"
  }
 },
 "nbformat": 4,
 "nbformat_minor": 2
}
