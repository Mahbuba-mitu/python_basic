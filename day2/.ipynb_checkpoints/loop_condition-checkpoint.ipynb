{
 "cells": [
  {
   "cell_type": "code",
   "execution_count": 4,
   "metadata": {},
   "outputs": [
    {
     "name": "stdout",
     "output_type": "stream",
     "text": [
      "please enter a number12\n",
      "It's an even number\n",
      "Thank you\n"
     ]
    }
   ],
   "source": [
    "# if and else condition\n",
    "num= input(\"please enter a number\")\n",
    "num=int(num)\n",
    "if num % 2==0:\n",
    "    print(\"It's an even number\")\n",
    "    print(\"Thank you\")\n",
    "else:\n",
    "    print(\"It's an odd number \")\n",
    "    print(\"come again\")"
   ]
  },
  {
   "cell_type": "code",
   "execution_count": 8,
   "metadata": {},
   "outputs": [
    {
     "name": "stdout",
     "output_type": "stream",
     "text": [
      "please enter a number5\n",
      "unknown number\n"
     ]
    }
   ],
   "source": [
    "#if and elif and else condition\n",
    "run=input(\"please enter a number:\")\n",
    "run=int(run)\n",
    "if run==50:\n",
    "    print(\"half century\")\n",
    "elif run==100:\n",
    "    print(\"century\")\n",
    "elif run>100:\n",
    "    print(\"century +\")\n",
    "else:\n",
    "    print(\"unknown number\")"
   ]
  }
 ],
 "metadata": {
  "kernelspec": {
   "display_name": "Python 3",
   "language": "python",
   "name": "python3"
  },
  "language_info": {
   "codemirror_mode": {
    "name": "ipython",
    "version": 3
   },
   "file_extension": ".py",
   "mimetype": "text/x-python",
   "name": "python",
   "nbconvert_exporter": "python",
   "pygments_lexer": "ipython3",
   "version": "3.7.0"
  }
 },
 "nbformat": 4,
 "nbformat_minor": 2
}
