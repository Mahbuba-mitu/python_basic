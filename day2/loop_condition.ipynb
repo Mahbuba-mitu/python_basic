{
 "cells": [
  {
   "cell_type": "code",
   "execution_count": 4,
   "metadata": {},
   "outputs": [
    {
     "name": "stdout",
     "output_type": "stream",
     "text": [
      "please enter a number12\n",
      "It's an even number\n",
      "Thank you\n"
     ]
    }
   ],
   "source": [
    "# if and else condition\n",
    "num= input(\"please enter a number\")\n",
    "num=int(num)\n",
    "if num % 2==0:\n",
    "    print(\"It's an even number\")\n",
    "    print(\"Thank you\")\n",
    "else:\n",
    "    print(\"It's an odd number \")\n",
    "    print(\"come again\")"
   ]
  },
  {
   "cell_type": "code",
   "execution_count": 9,
   "metadata": {},
   "outputs": [
    {
     "name": "stdout",
     "output_type": "stream",
     "text": [
      "please enter a number:7\n",
      "unknown number\n"
     ]
    }
   ],
   "source": [
    "#if and elif and else condition\n",
    "run=input(\"please enter a number:\")\n",
    "run=int(run)\n",
    "if run==50:\n",
    "    print(\"half century\")\n",
    "elif run==100:\n",
    "    print(\"century\")\n",
    "elif run>100:\n",
    "    print(\"century +\")\n",
    "else:\n",
    "    print(\"unknown number\")"
   ]
  },
  {
   "cell_type": "code",
   "execution_count": 10,
   "metadata": {},
   "outputs": [
    {
     "name": "stdout",
     "output_type": "stream",
     "text": [
      "ok\n"
     ]
    }
   ],
   "source": [
    "#and ,or operation\n",
    "#all condition have to be correct \n",
    "#and\n",
    "num=5\n",
    "if num>2 and num<7:\n",
    "    print(\"ok\")"
   ]
  },
  {
   "cell_type": "code",
   "execution_count": 12,
   "metadata": {},
   "outputs": [
    {
     "name": "stdout",
     "output_type": "stream",
     "text": [
      "ok\n"
     ]
    }
   ],
   "source": [
    "#or condition \n",
    "#if one part is currect the program will be execute\n",
    "num=5\n",
    "if num>4 or num== -3:\n",
    "    print(\"ok\")"
   ]
  },
  {
   "cell_type": "code",
   "execution_count": 13,
   "metadata": {},
   "outputs": [
    {
     "name": "stdout",
     "output_type": "stream",
     "text": [
      "name not match \n"
     ]
    }
   ],
   "source": [
    "#compare string\n",
    "name1=\"Azad\"\n",
    "name2=\"azad\"\n",
    "if name1==name2:\n",
    "    print(\"same name\")\n",
    "else:\n",
    "    print(\"name not match \")"
   ]
  },
  {
   "cell_type": "code",
   "execution_count": 14,
   "metadata": {},
   "outputs": [
    {
     "name": "stdout",
     "output_type": "stream",
     "text": [
      "1\n",
      "2\n",
      "3\n",
      "4\n",
      "5\n"
     ]
    }
   ],
   "source": [
    "#while loops\n",
    "x=1\n",
    "while x<=5:\n",
    "    print(x)\n",
    "    x+=1"
   ]
  },
  {
   "cell_type": "code",
   "execution_count": 1,
   "metadata": {},
   "outputs": [
    {
     "name": "stdout",
     "output_type": "stream",
     "text": [
      "1\n",
      "2\n",
      "3\n",
      "4\n",
      "5\n",
      "6\n",
      "7\n",
      "8\n",
      "9\n",
      "10\n"
     ]
    }
   ],
   "source": [
    "#infinite loop and break condition\n",
    "z=1\n",
    "while True:\n",
    "    print(z)\n",
    "    z+=1\n",
    "    if z>10:\n",
    "        break"
   ]
  },
  {
   "cell_type": "code",
   "execution_count": 4,
   "metadata": {},
   "outputs": [
    {
     "name": "stdout",
     "output_type": "stream",
     "text": [
      "1\n",
      "3\n",
      "5\n",
      "7\n",
      "9\n",
      "11\n",
      "13\n",
      "15\n",
      "17\n",
      "19\n"
     ]
    }
   ],
   "source": [
    "#print odd number \n",
    "y=0\n",
    "while y<20:\n",
    "    y+=1\n",
    "    if y%2==0:\n",
    "        continue\n",
    "    print(y)"
   ]
  },
  {
   "cell_type": "code",
   "execution_count": 6,
   "metadata": {},
   "outputs": [
    {
     "name": "stdout",
     "output_type": "stream",
     "text": [
      "1\n",
      "2\n",
      "3\n",
      "4\n",
      "5\n",
      "6\n",
      "7\n",
      "8\n",
      "9\n",
      "10\n",
      "Sum is 55\n"
     ]
    }
   ],
   "source": [
    "# loop condition\n",
    "sum=0\n",
    "for num in range (1,11):\n",
    "    print(num)\n",
    "    sum +=num\n",
    "print(\"Sum is {sum}\".format(sum=sum))"
   ]
  },
  {
   "cell_type": "code",
   "execution_count": 7,
   "metadata": {},
   "outputs": [
    {
     "name": "stdout",
     "output_type": "stream",
     "text": [
      "a\n",
      "p\n",
      "p\n",
      "l\n",
      "e\n",
      " \n",
      "i\n",
      "n\n",
      "c\n",
      ".\n"
     ]
    }
   ],
   "source": [
    "#loop in string\n",
    "title=\"apple inc.\"\n",
    "for char in title:\n",
    "    print(char)"
   ]
  }
 ],
 "metadata": {
  "kernelspec": {
   "display_name": "Python 3",
   "language": "python",
   "name": "python3"
  },
  "language_info": {
   "codemirror_mode": {
    "name": "ipython",
    "version": 3
   },
   "file_extension": ".py",
   "mimetype": "text/x-python",
   "name": "python",
   "nbconvert_exporter": "python",
   "pygments_lexer": "ipython3",
   "version": "3.7.0"
  }
 },
 "nbformat": 4,
 "nbformat_minor": 2
}
